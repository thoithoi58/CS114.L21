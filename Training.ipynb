{
 "cells": [
  {
   "cell_type": "code",
   "execution_count": 2,
   "metadata": {},
   "outputs": [],
   "source": [
    "import pandas as pd\n",
    "import sklearn\n",
    "import numpy as np\n",
    "import matplotlib"
   ]
  },
  {
   "cell_type": "code",
   "execution_count": 3,
   "metadata": {},
   "outputs": [],
   "source": [
    "df=pd.read_csv('C:\\\\Users\\\\Asus\\\\Desktop\\\\Tempo\\\\train.csv')"
   ]
  },
  {
   "cell_type": "code",
   "execution_count": 4,
   "metadata": {},
   "outputs": [
    {
     "data": {
      "text/plain": [
       "array(['Unknown', 'Urban', 'Rural'], dtype=object)"
      ]
     },
     "execution_count": 4,
     "metadata": {},
     "output_type": "execute_result"
    }
   ],
   "source": [
    "df['Residence_type'].unique()"
   ]
  },
  {
   "cell_type": "code",
   "execution_count": 7,
   "metadata": {},
   "outputs": [
    {
     "name": "stdout",
     "output_type": "stream",
     "text": [
      "<class 'pandas.core.frame.DataFrame'>\n",
      "RangeIndex: 4000 entries, 0 to 3999\n",
      "Data columns (total 14 columns):\n",
      " #   Column             Non-Null Count  Dtype  \n",
      "---  ------             --------------  -----  \n",
      " 0   id                 4000 non-null   int64  \n",
      " 1   gender             4000 non-null   object \n",
      " 2   age                3893 non-null   float64\n",
      " 3   hypertension       3770 non-null   float64\n",
      " 4   heart_disease      3910 non-null   float64\n",
      " 5   ever_married       4000 non-null   object \n",
      " 6   work_type          4000 non-null   object \n",
      " 7   Residence_type     4000 non-null   object \n",
      " 8   avg_glucose_level  3829 non-null   float64\n",
      " 9   bmi                2884 non-null   float64\n",
      " 10  smoking_status     4000 non-null   object \n",
      " 11  blood              3990 non-null   object \n",
      " 12  height             2928 non-null   float64\n",
      " 13  stroke             4000 non-null   int64  \n",
      "dtypes: float64(6), int64(2), object(6)\n",
      "memory usage: 437.6+ KB\n"
     ]
    }
   ],
   "source": [
    "df.info()"
   ]
  },
  {
   "cell_type": "code",
   "execution_count": 58,
   "metadata": {},
   "outputs": [],
   "source": [
    "df['age'].fillna(value=43.071256,inplace=True)\n",
    "df['heart_disease'].fillna(0,inplace=True)\n",
    "df['avg_glucose_level'].fillna(106.178062,inplace=True)\n",
    "df['bmi'].fillna(28.887899,inplace=True)\n",
    "df['height'].fillna(1.611831,inplace=True)\n",
    "df['hypertension'].fillna(0,inplace=True)"
   ]
  },
  {
   "cell_type": "code",
   "execution_count": 7,
   "metadata": {},
   "outputs": [
    {
     "data": {
      "text/plain": [
       "0    AB\n",
       "dtype: object"
      ]
     },
     "execution_count": 7,
     "metadata": {},
     "output_type": "execute_result"
    }
   ],
   "source": [
    "df['blood'].mode()"
   ]
  },
  {
   "cell_type": "code",
   "execution_count": 57,
   "metadata": {},
   "outputs": [
    {
     "data": {
      "text/plain": [
       "0    0.0\n",
       "dtype: float64"
      ]
     },
     "execution_count": 57,
     "metadata": {},
     "output_type": "execute_result"
    }
   ],
   "source": [
    "df['hypertension'].mode()"
   ]
  },
  {
   "cell_type": "code",
   "execution_count": 59,
   "metadata": {},
   "outputs": [
    {
     "data": {
      "text/plain": [
       "id                    0\n",
       "gender                0\n",
       "age                   0\n",
       "hypertension          0\n",
       "heart_disease         0\n",
       "ever_married          0\n",
       "work_type             0\n",
       "Residence_type        0\n",
       "avg_glucose_level     0\n",
       "bmi                   0\n",
       "smoking_status        0\n",
       "blood                10\n",
       "height                0\n",
       "stroke                0\n",
       "dtype: int64"
      ]
     },
     "execution_count": 59,
     "metadata": {},
     "output_type": "execute_result"
    }
   ],
   "source": [
    "df.isnull().sum()"
   ]
  },
  {
   "cell_type": "code",
   "execution_count": 24,
   "metadata": {},
   "outputs": [
    {
     "data": {
      "text/html": [
       "<div>\n",
       "<style scoped>\n",
       "    .dataframe tbody tr th:only-of-type {\n",
       "        vertical-align: middle;\n",
       "    }\n",
       "\n",
       "    .dataframe tbody tr th {\n",
       "        vertical-align: top;\n",
       "    }\n",
       "\n",
       "    .dataframe thead th {\n",
       "        text-align: right;\n",
       "    }\n",
       "</style>\n",
       "<table border=\"1\" class=\"dataframe\">\n",
       "  <thead>\n",
       "    <tr style=\"text-align: right;\">\n",
       "      <th></th>\n",
       "      <th>id</th>\n",
       "      <th>gender</th>\n",
       "      <th>age</th>\n",
       "      <th>hypertension</th>\n",
       "      <th>heart_disease</th>\n",
       "      <th>ever_married</th>\n",
       "      <th>work_type</th>\n",
       "      <th>Residence_type</th>\n",
       "      <th>avg_glucose_level</th>\n",
       "      <th>bmi</th>\n",
       "      <th>smoking_status</th>\n",
       "      <th>blood</th>\n",
       "      <th>height</th>\n",
       "      <th>stroke</th>\n",
       "    </tr>\n",
       "  </thead>\n",
       "  <tbody>\n",
       "    <tr>\n",
       "      <th>0</th>\n",
       "      <td>77</td>\n",
       "      <td>Female</td>\n",
       "      <td>43.071256</td>\n",
       "      <td>0.0</td>\n",
       "      <td>0.0</td>\n",
       "      <td>No</td>\n",
       "      <td>children</td>\n",
       "      <td>Unknown</td>\n",
       "      <td>85.81</td>\n",
       "      <td>18.6</td>\n",
       "      <td>Unknown</td>\n",
       "      <td>O</td>\n",
       "      <td>NaN</td>\n",
       "      <td>0</td>\n",
       "    </tr>\n",
       "    <tr>\n",
       "      <th>1</th>\n",
       "      <td>84</td>\n",
       "      <td>Male</td>\n",
       "      <td>55.000000</td>\n",
       "      <td>0.0</td>\n",
       "      <td>0.0</td>\n",
       "      <td>Yes</td>\n",
       "      <td>Private</td>\n",
       "      <td>Urban</td>\n",
       "      <td>89.17</td>\n",
       "      <td>NaN</td>\n",
       "      <td>never smoked</td>\n",
       "      <td>B</td>\n",
       "      <td>1.59</td>\n",
       "      <td>0</td>\n",
       "    </tr>\n",
       "    <tr>\n",
       "      <th>2</th>\n",
       "      <td>91</td>\n",
       "      <td>Female</td>\n",
       "      <td>42.000000</td>\n",
       "      <td>0.0</td>\n",
       "      <td>0.0</td>\n",
       "      <td>No</td>\n",
       "      <td>Private</td>\n",
       "      <td>Unknown</td>\n",
       "      <td>98.53</td>\n",
       "      <td>18.5</td>\n",
       "      <td>never smoked</td>\n",
       "      <td>B</td>\n",
       "      <td>NaN</td>\n",
       "      <td>0</td>\n",
       "    </tr>\n",
       "    <tr>\n",
       "      <th>3</th>\n",
       "      <td>99</td>\n",
       "      <td>Female</td>\n",
       "      <td>31.000000</td>\n",
       "      <td>0.0</td>\n",
       "      <td>0.0</td>\n",
       "      <td>No</td>\n",
       "      <td>Private</td>\n",
       "      <td>Urban</td>\n",
       "      <td>108.89</td>\n",
       "      <td>52.3</td>\n",
       "      <td>Unknown</td>\n",
       "      <td>O</td>\n",
       "      <td>1.24</td>\n",
       "      <td>0</td>\n",
       "    </tr>\n",
       "    <tr>\n",
       "      <th>4</th>\n",
       "      <td>121</td>\n",
       "      <td>Female</td>\n",
       "      <td>38.000000</td>\n",
       "      <td>0.0</td>\n",
       "      <td>0.0</td>\n",
       "      <td>Yes</td>\n",
       "      <td>Private</td>\n",
       "      <td>Unknown</td>\n",
       "      <td>91.44</td>\n",
       "      <td>NaN</td>\n",
       "      <td>Unknown</td>\n",
       "      <td>O</td>\n",
       "      <td>NaN</td>\n",
       "      <td>0</td>\n",
       "    </tr>\n",
       "    <tr>\n",
       "      <th>...</th>\n",
       "      <td>...</td>\n",
       "      <td>...</td>\n",
       "      <td>...</td>\n",
       "      <td>...</td>\n",
       "      <td>...</td>\n",
       "      <td>...</td>\n",
       "      <td>...</td>\n",
       "      <td>...</td>\n",
       "      <td>...</td>\n",
       "      <td>...</td>\n",
       "      <td>...</td>\n",
       "      <td>...</td>\n",
       "      <td>...</td>\n",
       "      <td>...</td>\n",
       "    </tr>\n",
       "    <tr>\n",
       "      <th>3995</th>\n",
       "      <td>72867</td>\n",
       "      <td>Male</td>\n",
       "      <td>16.000000</td>\n",
       "      <td>0.0</td>\n",
       "      <td>0.0</td>\n",
       "      <td>No</td>\n",
       "      <td>Private</td>\n",
       "      <td>Unknown</td>\n",
       "      <td>99.49</td>\n",
       "      <td>22.0</td>\n",
       "      <td>Unknown</td>\n",
       "      <td>B</td>\n",
       "      <td>NaN</td>\n",
       "      <td>0</td>\n",
       "    </tr>\n",
       "    <tr>\n",
       "      <th>3996</th>\n",
       "      <td>72882</td>\n",
       "      <td>Male</td>\n",
       "      <td>47.000000</td>\n",
       "      <td>0.0</td>\n",
       "      <td>0.0</td>\n",
       "      <td>Yes</td>\n",
       "      <td>Private</td>\n",
       "      <td>Rural</td>\n",
       "      <td>75.30</td>\n",
       "      <td>25.0</td>\n",
       "      <td>formerly smoked</td>\n",
       "      <td>B</td>\n",
       "      <td>1.79</td>\n",
       "      <td>0</td>\n",
       "    </tr>\n",
       "    <tr>\n",
       "      <th>3997</th>\n",
       "      <td>72911</td>\n",
       "      <td>Other</td>\n",
       "      <td>57.000000</td>\n",
       "      <td>1.0</td>\n",
       "      <td>0.0</td>\n",
       "      <td>Yes</td>\n",
       "      <td>Private</td>\n",
       "      <td>Rural</td>\n",
       "      <td>129.54</td>\n",
       "      <td>60.9</td>\n",
       "      <td>smokes</td>\n",
       "      <td>AB</td>\n",
       "      <td>1.15</td>\n",
       "      <td>0</td>\n",
       "    </tr>\n",
       "    <tr>\n",
       "      <th>3998</th>\n",
       "      <td>72915</td>\n",
       "      <td>Female</td>\n",
       "      <td>45.000000</td>\n",
       "      <td>0.0</td>\n",
       "      <td>0.0</td>\n",
       "      <td>Yes</td>\n",
       "      <td>Private</td>\n",
       "      <td>Unknown</td>\n",
       "      <td>172.33</td>\n",
       "      <td>45.3</td>\n",
       "      <td>formerly smoked</td>\n",
       "      <td>O</td>\n",
       "      <td>1.33</td>\n",
       "      <td>0</td>\n",
       "    </tr>\n",
       "    <tr>\n",
       "      <th>3999</th>\n",
       "      <td>72918</td>\n",
       "      <td>Female</td>\n",
       "      <td>53.000000</td>\n",
       "      <td>1.0</td>\n",
       "      <td>0.0</td>\n",
       "      <td>Yes</td>\n",
       "      <td>Private</td>\n",
       "      <td>Urban</td>\n",
       "      <td>62.55</td>\n",
       "      <td>30.3</td>\n",
       "      <td>Unknown</td>\n",
       "      <td>O</td>\n",
       "      <td>1.62</td>\n",
       "      <td>1</td>\n",
       "    </tr>\n",
       "  </tbody>\n",
       "</table>\n",
       "<p>4000 rows × 14 columns</p>\n",
       "</div>"
      ],
      "text/plain": [
       "         id  gender        age  hypertension  heart_disease ever_married  \\\n",
       "0        77  Female  43.071256           0.0            0.0           No   \n",
       "1        84    Male  55.000000           0.0            0.0          Yes   \n",
       "2        91  Female  42.000000           0.0            0.0           No   \n",
       "3        99  Female  31.000000           0.0            0.0           No   \n",
       "4       121  Female  38.000000           0.0            0.0          Yes   \n",
       "...     ...     ...        ...           ...            ...          ...   \n",
       "3995  72867    Male  16.000000           0.0            0.0           No   \n",
       "3996  72882    Male  47.000000           0.0            0.0          Yes   \n",
       "3997  72911   Other  57.000000           1.0            0.0          Yes   \n",
       "3998  72915  Female  45.000000           0.0            0.0          Yes   \n",
       "3999  72918  Female  53.000000           1.0            0.0          Yes   \n",
       "\n",
       "     work_type Residence_type  avg_glucose_level   bmi   smoking_status blood  \\\n",
       "0     children        Unknown              85.81  18.6          Unknown     O   \n",
       "1      Private          Urban              89.17   NaN     never smoked     B   \n",
       "2      Private        Unknown              98.53  18.5     never smoked     B   \n",
       "3      Private          Urban             108.89  52.3          Unknown     O   \n",
       "4      Private        Unknown              91.44   NaN          Unknown     O   \n",
       "...        ...            ...                ...   ...              ...   ...   \n",
       "3995   Private        Unknown              99.49  22.0          Unknown     B   \n",
       "3996   Private          Rural              75.30  25.0  formerly smoked     B   \n",
       "3997   Private          Rural             129.54  60.9           smokes    AB   \n",
       "3998   Private        Unknown             172.33  45.3  formerly smoked     O   \n",
       "3999   Private          Urban              62.55  30.3          Unknown     O   \n",
       "\n",
       "      height  stroke  \n",
       "0        NaN       0  \n",
       "1       1.59       0  \n",
       "2        NaN       0  \n",
       "3       1.24       0  \n",
       "4        NaN       0  \n",
       "...      ...     ...  \n",
       "3995     NaN       0  \n",
       "3996    1.79       0  \n",
       "3997    1.15       0  \n",
       "3998    1.33       0  \n",
       "3999    1.62       1  \n",
       "\n",
       "[4000 rows x 14 columns]"
      ]
     },
     "execution_count": 24,
     "metadata": {},
     "output_type": "execute_result"
    }
   ],
   "source": [
    "df"
   ]
  },
  {
   "cell_type": "code",
   "execution_count": null,
   "metadata": {},
   "outputs": [],
   "source": []
  },
  {
   "cell_type": "code",
   "execution_count": null,
   "metadata": {},
   "outputs": [],
   "source": []
  }
 ],
 "metadata": {
  "kernelspec": {
   "display_name": "Python 3",
   "language": "python",
   "name": "python3"
  },
  "language_info": {
   "codemirror_mode": {
    "name": "ipython",
    "version": 3
   },
   "file_extension": ".py",
   "mimetype": "text/x-python",
   "name": "python",
   "nbconvert_exporter": "python",
   "pygments_lexer": "ipython3",
   "version": "3.9.1"
  }
 },
 "nbformat": 4,
 "nbformat_minor": 4
}
