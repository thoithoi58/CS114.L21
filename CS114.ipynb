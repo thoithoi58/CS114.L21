{
  "nbformat": 4,
  "nbformat_minor": 0,
  "metadata": {
    "colab": {
      "name": "CS114.ipynb",
      "provenance": [],
      "collapsed_sections": []
    },
    "kernelspec": {
      "name": "python3",
      "display_name": "Python 3"
    },
    "language_info": {
      "name": "python"
    }
  },
  "cells": [
    {
      "cell_type": "code",
      "metadata": {
        "id": "mwuTtMpAwGIv"
      },
      "source": [
        "import matplotlib.pyplot as plt"
      ],
      "execution_count": null,
      "outputs": []
    },
    {
      "cell_type": "code",
      "metadata": {
        "id": "i-E1uHS4wyIt"
      },
      "source": [
        "from sklearn import datasets, svm, metrics\n",
        "from sklearn.model_selection import train_test_split"
      ],
      "execution_count": null,
      "outputs": []
    },
    {
      "cell_type": "code",
      "metadata": {
        "colab": {
          "base_uri": "https://localhost:8080/",
          "height": 100
        },
        "id": "oE_aF27aw4g3",
        "outputId": "dec7db2e-102f-4621-b5d1-8c948d0bb75d"
      },
      "source": [
        "digits = datasets.load_digits()\n",
        "\n",
        "_, axes = plt.subplots(nrows=1, ncols=9, figsize=(10, 3))\n",
        "for ax, image, label in zip(axes, digits.images, digits.target):\n",
        "    ax.set_axis_off()\n",
        "    ax.imshow(image, cmap=plt.cm.gray_r, interpolation='nearest')\n",
        "    ax.set_title('Training: %i' % label)"
      ],
      "execution_count": null,
      "outputs": [
        {
          "output_type": "display_data",
          "data": {
            "image/png": "[encoded data removed]",
            "text/plain": [
              "<Figure size 720x216 with 9 Axes>"
            ]
          },
          "metadata": {
            "tags": [],
            "needs_background": "light"
          }
        }
      ]
    },
    {
      "cell_type": "code",
      "metadata": {
        "id": "EuwV6FkuxLkj"
      },
      "source": [
        "# Làm phẳng hình ảnh\n",
        "n_samples = len(digits.images)\n",
        "data = digits.images.reshape((n_samples, -1))\n",
        "\n",
        "# Tạo bộ phân loại: bộ phân loại vector hỗ trợ\n",
        "clf = svm.SVC(gamma=0.001)\n",
        "\n",
        "# Chia dữ liệu thành 50% tập huấn luyện và 50% tập thử nghiệm\n",
        "X_train, X_test, y_train, y_test = train_test_split(\n",
        "    data, digits.target, test_size=0.5, shuffle=False)\n",
        "\n",
        "# Tìm hiểu các chữ số trên tập huấn luyện\n",
        "clf.fit(X_train, y_train)\n",
        "\n",
        "# Dự đoán chữ số trên tập thử nghiệm\n",
        "predicted = clf.predict(X_test)"
      ],
      "execution_count": null,
      "outputs": []
    },
    {
      "cell_type": "code",
      "metadata": {
        "colab": {
          "base_uri": "https://localhost:8080/",
          "height": 168
        },
        "id": "tzl4BkbUxNiX",
        "outputId": "d1811b2e-d675-430e-8097-40bb407328e3"
      },
      "source": [
        "_, axes = plt.subplots(nrows=1, ncols=4, figsize=(10, 3))\n",
        "for ax, image, prediction in zip(axes, X_test, predicted):\n",
        "    ax.set_axis_off()\n",
        "    image = image.reshape(8, 8)\n",
        "    ax.imshow(image, cmap=plt.cm.gray_r, interpolation='nearest')\n",
        "    ax.set_title(f'Prediction: {prediction}')"
      ],
      "execution_count": null,
      "outputs": [
        {
          "output_type": "display_data",
          "data": {
            "image/png": "[encoded data removed]",
            "text/plain": [
              "<Figure size 720x216 with 4 Axes>"
            ]
          },
          "metadata": {
            "tags": [],
            "needs_background": "light"
          }
        }
      ]
    },
    {
      "cell_type": "markdown",
      "metadata": {
        "id": "NZfBoQIKbnU5"
      },
      "source": [
        "**THỰC HIỆN PREDICT BẰNG WEBCAM LAPTOP**"
      ]
    },
    {
      "cell_type": "markdown",
      "metadata": {
        "id": "qRMM7n3fcERn"
      },
      "source": [
        "Chụp ảnh từ webcam laptop"
      ]
    },
    {
      "cell_type": "code",
      "metadata": {
        "id": "oYXlrgDbxvo0"
      },
      "source": [
        "#Code from Google Colab / Code snippets\n",
        "from IPython.display import display, Javascript\n",
        "from google.colab.output import eval_js\n",
        "from base64 import b64decode\n",
        "\n",
        "def take_photo(filename='photo.jpg', quality=0.8):\n",
        "  js = Javascript('''\n",
        "    async function takePhoto(quality) {\n",
        "      const div = document.createElement('div');\n",
        "      const capture = document.createElement('button');\n",
        "      capture.textContent = 'Capture';\n",
        "      div.appendChild(capture);\n",
        "\n",
        "      const video = document.createElement('video');\n",
        "      video.style.display = 'block';\n",
        "      const stream = await navigator.mediaDevices.getUserMedia({video: true});\n",
        "\n",
        "      document.body.appendChild(div);\n",
        "      div.appendChild(video);\n",
        "      video.srcObject = stream;\n",
        "      await video.play();\n",
        "\n",
        "      // Resize the output to fit the video element.\n",
        "      google.colab.output.setIframeHeight(document.documentElement.scrollHeight, true);\n",
        "\n",
        "      // Wait for Capture to be clicked.\n",
        "      await new Promise((resolve) => capture.onclick = resolve);\n",
        "\n",
        "      const canvas = document.createElement('canvas');\n",
        "      canvas.width = video.videoWidth;\n",
        "      canvas.height = video.videoHeight;\n",
        "      canvas.getContext('2d').drawImage(video, 0, 0);\n",
        "      stream.getVideoTracks()[0].stop();\n",
        "      div.remove();\n",
        "      return canvas.toDataURL('image/jpeg', quality);\n",
        "    }\n",
        "    ''')\n",
        "  display(js)\n",
        "  data = eval_js('takePhoto({})'.format(quality))\n",
        "  binary = b64decode(data.split(',')[1])\n",
        "  with open(filename, 'wb') as f:\n",
        "    f.write(binary)\n",
        "  return filename"
      ],
      "execution_count": null,
      "outputs": []
    },
    {
      "cell_type": "code",
      "metadata": {
        "colab": {
          "base_uri": "https://localhost:8080/",
          "height": 515
        },
        "id": "AtTuUk5Mxvo_",
        "outputId": "67d8ee0b-73ba-4204-ec3d-4b511b8b7a36"
      },
      "source": [
        "from IPython.display import Image\n",
        "try:\n",
        "  filename = take_photo()\n",
        "  print('Saved to {}'.format(filename))\n",
        "  \n",
        "  # Show the image which was just taken.\n",
        "  display(Image(filename))\n",
        "except Exception as err:\n",
        "  # Errors will be thrown if the user does not have a webcam or if they do not\n",
        "  # grant the page permission to access it.\n",
        "  print(str(err))"
      ],
      "execution_count": null,
      "outputs": [
        {
          "output_type": "display_data",
          "data": {
            "application/javascript": [
              "\n",
              "    async function takePhoto(quality) {\n",
              "      const div = document.createElement('div');\n",
              "      const capture = document.createElement('button');\n",
              "      capture.textContent = 'Capture';\n",
              "      div.appendChild(capture);\n",
              "\n",
              "      const video = document.createElement('video');\n",
              "      video.style.display = 'block';\n",
              "      const stream = await navigator.mediaDevices.getUserMedia({video: true});\n",
              "\n",
              "      document.body.appendChild(div);\n",
              "      div.appendChild(video);\n",
              "      video.srcObject = stream;\n",
              "      await video.play();\n",
              "\n",
              "      // Resize the output to fit the video element.\n",
              "      google.colab.output.setIframeHeight(document.documentElement.scrollHeight, true);\n",
              "\n",
              "      // Wait for Capture to be clicked.\n",
              "      await new Promise((resolve) => capture.onclick = resolve);\n",
              "\n",
              "      const canvas = document.createElement('canvas');\n",
              "      canvas.width = video.videoWidth;\n",
              "      canvas.height = video.videoHeight;\n",
              "      canvas.getContext('2d').drawImage(video, 0, 0);\n",
              "      stream.getVideoTracks()[0].stop();\n",
              "      div.remove();\n",
              "      return canvas.toDataURL('image/jpeg', quality);\n",
              "    }\n",
              "    "
            ],
            "text/plain": [
              "<IPython.core.display.Javascript object>"
            ]
          },
          "metadata": {
            "tags": []
          }
        },
        {
          "output_type": "stream",
          "text": [
            "Saved to photo.jpg\n"
          ],
          "name": "stdout"
        },
        {
          "output_type": "display_data",
          "data": {
            "image/jpeg": "[encoded data removed]",
            "text/plain": [
              "<IPython.core.display.Image object>"
            ]
          },
          "metadata": {
            "tags": []
          }
        }
      ]
    },
    {
      "cell_type": "code",
      "metadata": {
        "colab": {
          "base_uri": "https://localhost:8080/"
        },
        "id": "dy1vqSjsUTkZ",
        "outputId": "d1bb8a41-7d27-44b9-e143-d83b182810a2"
      },
      "source": [
        "import cv2\n",
        "import numpy as np\n",
        "\n",
        "image = cv2.imread(\"/content/photo.jpg\")\n",
        "image = cv2.cvtColor(image, cv2.COLOR_BGR2GRAY) # chuyển sang ảnh xám\n",
        "image2 = cv2.resize(image, (8, 8), interpolation = cv2.INTER_AREA) # resize kích cỡ 8x8\n",
        "\n",
        "image3 = image2.reshape(64,)\n",
        "image3 = image2.reshape(1 , -1)\n",
        "print(image3)\n",
        "print(X_test[1])\n",
        "predicted = clf.predict(image3)\n",
        "print(predicted)\n"
      ],
      "execution_count": null,
      "outputs": [
        {
          "output_type": "stream",
          "text": [
            "[[134 137 134 137 141 140 137 132 138 138 132 132 145 145 142 138 145 147\n",
            "  146 152 146 151 148 144 153 157 160 161 157 161 157 153 161 156 165 164\n",
            "  172 169 162 161 162 165 165 167 175 169 174 169 172 171 179 185 183 186\n",
            "  183 176 176 183 189 191 192 191 188 181]]\n",
            "[ 0.  0.  6. 14. 16.  5.  0.  0.  0.  2. 16. 16. 16.  7.  0.  0.  0.  2.\n",
            " 15. 16. 15.  2.  0.  0.  0.  0.  6. 16. 15.  7.  0.  0.  0.  0. 14. 10.\n",
            "  6. 16.  3.  0.  0.  1. 16.  3.  0. 16.  7.  0.  0.  0. 10. 11. 11. 15.\n",
            "  3.  0.  0.  0.  3. 14. 16.  6.  0.  0.]\n",
            "[1]\n"
          ],
          "name": "stdout"
        }
      ]
    },
    {
      "cell_type": "markdown",
      "metadata": {
        "id": "SjVUrnL7erzi"
      },
      "source": [
        "# **Trả lời câu hỏi bài tập colab số 1**\n",
        "\n",
        "---\n",
        "\n"
      ]
    },
    {
      "cell_type": "markdown",
      "metadata": {
        "id": "POVdVRroe6sA"
      },
      "source": [
        "Kết quả chạy thực tế với webcam của laptop và giấy viết tay của các bạn có tốt không?\n",
        "\n",
        "*   Kết quả chạy thực tế với webcam của laptop và giấy viết tay cho kết quả không tốt.\n",
        "\n",
        "Nhìn vào đâu để kết luận là tốt hay không?\n",
        "\n",
        "*   Dựa vào dự đoán đầu ra cho kết quả không tốt.\n",
        "\n",
        "Nguyên nhân:\n",
        "\n",
        "*   Ảnh thực tế được chụp khác xa so với ảnh ví dụ được sử dụng bên trên ở nhiều mặt : chất lượng, độ tương phản, đọ nét của chữ, ...\n",
        "*   Chất lượng webcam .\n",
        "*   Việc tiền xử lý ảnh chưa tốt.\n",
        "\n",
        "Nếu tốt thì tiếp theo có thể dùng model digits recognition này vào các bài toán phức tạp hơn như nhận dạng biển số nhà không?\n",
        "\n",
        "*   Theo nhóm chúng em thì model này không thực sự tốt để có thể dùng vào các bài toán phực tạp hơn. Lý do là những vấn đề được đề cập trong phần \"Nguyên nhân\" ở trên."
      ]
    }
  ]
}