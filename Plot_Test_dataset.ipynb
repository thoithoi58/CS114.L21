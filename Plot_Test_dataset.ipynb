{
  "nbformat": 4,
  "nbformat_minor": 0,
  "metadata": {
    "colab": {
      "name": "Plot Test_dataset.ipynb",
      "provenance": [],
      "collapsed_sections": []
    },
    "kernelspec": {
      "name": "python3",
      "display_name": "Python 3"
    },
    "language_info": {
      "name": "python"
    }
  },
  "cells": [
    {
      "cell_type": "markdown",
      "metadata": {
        "id": "_P32yyGeq2-K"
      },
      "source": [
        "**Members**\n",
        "1.   Nguyễn Trọng Thoại - 19522298\n",
        "2.   Lê Văn Nhân - 19521935\n",
        "3.   Lê Cao Hưng - 17520539"
      ]
    },
    {
      "cell_type": "code",
      "metadata": {
        "id": "eWxojmMgKzik"
      },
      "source": [
        "import pandas as pd\n",
        "import numpy as np\n",
        "import matplotlib.pyplot as plt\n",
        "\n",
        "\n",
        "datapath = \"https://raw.githubusercontent.com/thoithoi58/CS114.L21/main/Colab/Final_Score_Prediction/wecode.csv\"\n",
        "wecode = pd.read_csv(datapath)\n",
        "datapath = \"https://raw.githubusercontent.com/thoithoi58/CS114.L21/main/Colab/Final_Score_Prediction/score_training.csv\"\n",
        "sc_training = pd.read_csv(datapath) "
      ],
      "execution_count": 1,
      "outputs": []
    },
    {
      "cell_type": "code",
      "metadata": {
        "id": "oxUw5O1ZK5KO",
        "colab": {
          "base_uri": "https://localhost:8080/"
        },
        "outputId": "3f097c3e-f5a8-4fc3-ad5f-f40dc08be85b"
      },
      "source": [
        "wc_data = wecode.drop(columns=[\"id\", \"language_id\", \"status\", \"created_at\", \"updated_at\", \"file_name\"])\n",
        "print(wc_data)\n",
        "sc_training = sc_training[['id','CK']]\n",
        "sc_training['CK'] = sc_training['CK'].apply(pd.to_numeric, errors='coerce')\n",
        "print(sc_training)"
      ],
      "execution_count": 2,
      "outputs": [
        {
          "output_type": "stream",
          "text": [
            "        assignment_id  problem_id  user_id  is_final  pre_score coefficient\n",
            "0                   0           3        4         1      10000         100\n",
            "1                   0           4        4         1      10000         100\n",
            "2                   0           5        4         0          0         100\n",
            "3                   0           5        4         0          0         100\n",
            "4                   0           5        4         0          0         100\n",
            "...               ...         ...      ...       ...        ...         ...\n",
            "264601              0          25     1796         0          0         100\n",
            "264602              0          25     1796         0          0         100\n",
            "264603              0          25     1796         1      10000         100\n",
            "264604              0         150      255         1       6250         100\n",
            "264605             21          24     1568         0      10000         100\n",
            "\n",
            "[264606 rows x 6 columns]\n",
            "       id    CK\n",
            "0      22   8.5\n",
            "1      24   9.5\n",
            "2      27  10.0\n",
            "3      28   9.5\n",
            "4      29   8.5\n",
            "..    ...   ...\n",
            "970  1857   4.0\n",
            "971  1859   1.5\n",
            "972  1862   7.5\n",
            "973  1865   7.5\n",
            "974  1866   5.0\n",
            "\n",
            "[975 rows x 2 columns]\n"
          ],
          "name": "stdout"
        }
      ]
    },
    {
      "cell_type": "markdown",
      "metadata": {
        "id": "ySWXm1rUMFIR"
      },
      "source": [
        "**Tìm Total Submit**"
      ]
    },
    {
      "cell_type": "code",
      "metadata": {
        "id": "p9bOX5Lbwb7X",
        "colab": {
          "base_uri": "https://localhost:8080/",
          "height": 419
        },
        "outputId": "83010d15-0891-4fef-a0d8-88ae42e0a646"
      },
      "source": [
        "Total_Submit = pd.DataFrame({'Total Submit' : wc_data['user_id'].value_counts()})\n",
        "Total_Submit = Total_Submit.sort_index()\n",
        "Total_Submit"
      ],
      "execution_count": 3,
      "outputs": [
        {
          "output_type": "execute_result",
          "data": {
            "text/html": [
              "<div>\n",
              "<style scoped>\n",
              "    .dataframe tbody tr th:only-of-type {\n",
              "        vertical-align: middle;\n",
              "    }\n",
              "\n",
              "    .dataframe tbody tr th {\n",
              "        vertical-align: top;\n",
              "    }\n",
              "\n",
              "    .dataframe thead th {\n",
              "        text-align: right;\n",
              "    }\n",
              "</style>\n",
              "<table border=\"1\" class=\"dataframe\">\n",
              "  <thead>\n",
              "    <tr style=\"text-align: right;\">\n",
              "      <th></th>\n",
              "      <th>Total Submit</th>\n",
              "    </tr>\n",
              "  </thead>\n",
              "  <tbody>\n",
              "    <tr>\n",
              "      <th>1</th>\n",
              "      <td>2</td>\n",
              "    </tr>\n",
              "    <tr>\n",
              "      <th>4</th>\n",
              "      <td>54</td>\n",
              "    </tr>\n",
              "    <tr>\n",
              "      <th>5</th>\n",
              "      <td>6</td>\n",
              "    </tr>\n",
              "    <tr>\n",
              "      <th>6</th>\n",
              "      <td>130</td>\n",
              "    </tr>\n",
              "    <tr>\n",
              "      <th>7</th>\n",
              "      <td>5</td>\n",
              "    </tr>\n",
              "    <tr>\n",
              "      <th>...</th>\n",
              "      <td>...</td>\n",
              "    </tr>\n",
              "    <tr>\n",
              "      <th>1860</th>\n",
              "      <td>76</td>\n",
              "    </tr>\n",
              "    <tr>\n",
              "      <th>1862</th>\n",
              "      <td>12</td>\n",
              "    </tr>\n",
              "    <tr>\n",
              "      <th>1864</th>\n",
              "      <td>187</td>\n",
              "    </tr>\n",
              "    <tr>\n",
              "      <th>1865</th>\n",
              "      <td>99</td>\n",
              "    </tr>\n",
              "    <tr>\n",
              "      <th>1868</th>\n",
              "      <td>47</td>\n",
              "    </tr>\n",
              "  </tbody>\n",
              "</table>\n",
              "<p>1159 rows × 1 columns</p>\n",
              "</div>"
            ],
            "text/plain": [
              "      Total Submit\n",
              "1                2\n",
              "4               54\n",
              "5                6\n",
              "6              130\n",
              "7                5\n",
              "...            ...\n",
              "1860            76\n",
              "1862            12\n",
              "1864           187\n",
              "1865            99\n",
              "1868            47\n",
              "\n",
              "[1159 rows x 1 columns]"
            ]
          },
          "metadata": {
            "tags": []
          },
          "execution_count": 3
        }
      ]
    },
    {
      "cell_type": "markdown",
      "metadata": {
        "id": "Cn-kJR6evbn9"
      },
      "source": [
        "**Tìm Total Solved**"
      ]
    },
    {
      "cell_type": "code",
      "metadata": {
        "id": "81NEErLRub_P",
        "colab": {
          "base_uri": "https://localhost:8080/",
          "height": 450
        },
        "outputId": "64620859-1c1c-43b3-9229-724dd745c5b9"
      },
      "source": [
        "wc_tsolved = pd.DataFrame(wc_data['user_id'])\n",
        "wc_tsolved['Total Solved'] = pd.DataFrame(map(int, (wc_data['pre_score'] == 10000) & (wc_data['is_final'] == 1)))\n",
        "wc_tsolved = wc_tsolved.groupby('user_id').sum()\n",
        "wc_tsolved"
      ],
      "execution_count": 4,
      "outputs": [
        {
          "output_type": "execute_result",
          "data": {
            "text/html": [
              "<div>\n",
              "<style scoped>\n",
              "    .dataframe tbody tr th:only-of-type {\n",
              "        vertical-align: middle;\n",
              "    }\n",
              "\n",
              "    .dataframe tbody tr th {\n",
              "        vertical-align: top;\n",
              "    }\n",
              "\n",
              "    .dataframe thead th {\n",
              "        text-align: right;\n",
              "    }\n",
              "</style>\n",
              "<table border=\"1\" class=\"dataframe\">\n",
              "  <thead>\n",
              "    <tr style=\"text-align: right;\">\n",
              "      <th></th>\n",
              "      <th>Total Solved</th>\n",
              "    </tr>\n",
              "    <tr>\n",
              "      <th>user_id</th>\n",
              "      <th></th>\n",
              "    </tr>\n",
              "  </thead>\n",
              "  <tbody>\n",
              "    <tr>\n",
              "      <th>1</th>\n",
              "      <td>1</td>\n",
              "    </tr>\n",
              "    <tr>\n",
              "      <th>4</th>\n",
              "      <td>37</td>\n",
              "    </tr>\n",
              "    <tr>\n",
              "      <th>5</th>\n",
              "      <td>3</td>\n",
              "    </tr>\n",
              "    <tr>\n",
              "      <th>6</th>\n",
              "      <td>85</td>\n",
              "    </tr>\n",
              "    <tr>\n",
              "      <th>7</th>\n",
              "      <td>0</td>\n",
              "    </tr>\n",
              "    <tr>\n",
              "      <th>...</th>\n",
              "      <td>...</td>\n",
              "    </tr>\n",
              "    <tr>\n",
              "      <th>1860</th>\n",
              "      <td>28</td>\n",
              "    </tr>\n",
              "    <tr>\n",
              "      <th>1862</th>\n",
              "      <td>4</td>\n",
              "    </tr>\n",
              "    <tr>\n",
              "      <th>1864</th>\n",
              "      <td>28</td>\n",
              "    </tr>\n",
              "    <tr>\n",
              "      <th>1865</th>\n",
              "      <td>10</td>\n",
              "    </tr>\n",
              "    <tr>\n",
              "      <th>1868</th>\n",
              "      <td>27</td>\n",
              "    </tr>\n",
              "  </tbody>\n",
              "</table>\n",
              "<p>1159 rows × 1 columns</p>\n",
              "</div>"
            ],
            "text/plain": [
              "         Total Solved\n",
              "user_id              \n",
              "1                   1\n",
              "4                  37\n",
              "5                   3\n",
              "6                  85\n",
              "7                   0\n",
              "...               ...\n",
              "1860               28\n",
              "1862                4\n",
              "1864               28\n",
              "1865               10\n",
              "1868               27\n",
              "\n",
              "[1159 rows x 1 columns]"
            ]
          },
          "metadata": {
            "tags": []
          },
          "execution_count": 4
        }
      ]
    },
    {
      "cell_type": "markdown",
      "metadata": {
        "id": "Y4Ws2lZWdWid"
      },
      "source": [
        "**Tìm Final Score**"
      ]
    },
    {
      "cell_type": "code",
      "metadata": {
        "colab": {
          "base_uri": "https://localhost:8080/",
          "height": 450
        },
        "id": "Fhhw95KJdWJS",
        "outputId": "5c891d85-a185-4fd9-eedd-7fcaae2aec15"
      },
      "source": [
        "wc_fscore = pd.DataFrame(wc_data['user_id'])\n",
        "wc_fscore['Correct Submits'] = pd.DataFrame(map(int, (wc_data['pre_score'] == 10000)))\n",
        "wc_fscore['Final Score'] = wc_data.loc[wc_data['is_final'] == 1, ['pre_score']]\n",
        "wc_fscore = wc_fscore.groupby('user_id').sum()\n",
        "wc_fscore"
      ],
      "execution_count": 5,
      "outputs": [
        {
          "output_type": "execute_result",
          "data": {
            "text/html": [
              "<div>\n",
              "<style scoped>\n",
              "    .dataframe tbody tr th:only-of-type {\n",
              "        vertical-align: middle;\n",
              "    }\n",
              "\n",
              "    .dataframe tbody tr th {\n",
              "        vertical-align: top;\n",
              "    }\n",
              "\n",
              "    .dataframe thead th {\n",
              "        text-align: right;\n",
              "    }\n",
              "</style>\n",
              "<table border=\"1\" class=\"dataframe\">\n",
              "  <thead>\n",
              "    <tr style=\"text-align: right;\">\n",
              "      <th></th>\n",
              "      <th>Correct Submits</th>\n",
              "      <th>Final Score</th>\n",
              "    </tr>\n",
              "    <tr>\n",
              "      <th>user_id</th>\n",
              "      <th></th>\n",
              "      <th></th>\n",
              "    </tr>\n",
              "  </thead>\n",
              "  <tbody>\n",
              "    <tr>\n",
              "      <th>1</th>\n",
              "      <td>1</td>\n",
              "      <td>10000.0</td>\n",
              "    </tr>\n",
              "    <tr>\n",
              "      <th>4</th>\n",
              "      <td>44</td>\n",
              "      <td>370000.0</td>\n",
              "    </tr>\n",
              "    <tr>\n",
              "      <th>5</th>\n",
              "      <td>3</td>\n",
              "      <td>30000.0</td>\n",
              "    </tr>\n",
              "    <tr>\n",
              "      <th>6</th>\n",
              "      <td>89</td>\n",
              "      <td>850000.0</td>\n",
              "    </tr>\n",
              "    <tr>\n",
              "      <th>7</th>\n",
              "      <td>0</td>\n",
              "      <td>9209.0</td>\n",
              "    </tr>\n",
              "    <tr>\n",
              "      <th>...</th>\n",
              "      <td>...</td>\n",
              "      <td>...</td>\n",
              "    </tr>\n",
              "    <tr>\n",
              "      <th>1860</th>\n",
              "      <td>29</td>\n",
              "      <td>329665.0</td>\n",
              "    </tr>\n",
              "    <tr>\n",
              "      <th>1862</th>\n",
              "      <td>4</td>\n",
              "      <td>40000.0</td>\n",
              "    </tr>\n",
              "    <tr>\n",
              "      <th>1864</th>\n",
              "      <td>30</td>\n",
              "      <td>439741.0</td>\n",
              "    </tr>\n",
              "    <tr>\n",
              "      <th>1865</th>\n",
              "      <td>10</td>\n",
              "      <td>116428.0</td>\n",
              "    </tr>\n",
              "    <tr>\n",
              "      <th>1868</th>\n",
              "      <td>38</td>\n",
              "      <td>270000.0</td>\n",
              "    </tr>\n",
              "  </tbody>\n",
              "</table>\n",
              "<p>1159 rows × 2 columns</p>\n",
              "</div>"
            ],
            "text/plain": [
              "         Correct Submits  Final Score\n",
              "user_id                              \n",
              "1                      1      10000.0\n",
              "4                     44     370000.0\n",
              "5                      3      30000.0\n",
              "6                     89     850000.0\n",
              "7                      0       9209.0\n",
              "...                  ...          ...\n",
              "1860                  29     329665.0\n",
              "1862                   4      40000.0\n",
              "1864                  30     439741.0\n",
              "1865                  10     116428.0\n",
              "1868                  38     270000.0\n",
              "\n",
              "[1159 rows x 2 columns]"
            ]
          },
          "metadata": {
            "tags": []
          },
          "execution_count": 5
        }
      ]
    },
    {
      "cell_type": "code",
      "metadata": {
        "colab": {
          "base_uri": "https://localhost:8080/",
          "height": 450
        },
        "id": "lv6TjqoFbPgr",
        "outputId": "46f60450-16cb-437a-fdbe-0dc093248eed"
      },
      "source": [
        "get = pd.DataFrame(wecode['user_id'])\n",
        "get['Correct Submits'] = pd.DataFrame(map(int, (wc_data['pre_score'] == 10000)))\n",
        "get = get.groupby('user_id').sum()\n",
        "get"
      ],
      "execution_count": 6,
      "outputs": [
        {
          "output_type": "execute_result",
          "data": {
            "text/html": [
              "<div>\n",
              "<style scoped>\n",
              "    .dataframe tbody tr th:only-of-type {\n",
              "        vertical-align: middle;\n",
              "    }\n",
              "\n",
              "    .dataframe tbody tr th {\n",
              "        vertical-align: top;\n",
              "    }\n",
              "\n",
              "    .dataframe thead th {\n",
              "        text-align: right;\n",
              "    }\n",
              "</style>\n",
              "<table border=\"1\" class=\"dataframe\">\n",
              "  <thead>\n",
              "    <tr style=\"text-align: right;\">\n",
              "      <th></th>\n",
              "      <th>Correct Submits</th>\n",
              "    </tr>\n",
              "    <tr>\n",
              "      <th>user_id</th>\n",
              "      <th></th>\n",
              "    </tr>\n",
              "  </thead>\n",
              "  <tbody>\n",
              "    <tr>\n",
              "      <th>1</th>\n",
              "      <td>1</td>\n",
              "    </tr>\n",
              "    <tr>\n",
              "      <th>4</th>\n",
              "      <td>44</td>\n",
              "    </tr>\n",
              "    <tr>\n",
              "      <th>5</th>\n",
              "      <td>3</td>\n",
              "    </tr>\n",
              "    <tr>\n",
              "      <th>6</th>\n",
              "      <td>89</td>\n",
              "    </tr>\n",
              "    <tr>\n",
              "      <th>7</th>\n",
              "      <td>0</td>\n",
              "    </tr>\n",
              "    <tr>\n",
              "      <th>...</th>\n",
              "      <td>...</td>\n",
              "    </tr>\n",
              "    <tr>\n",
              "      <th>1860</th>\n",
              "      <td>29</td>\n",
              "    </tr>\n",
              "    <tr>\n",
              "      <th>1862</th>\n",
              "      <td>4</td>\n",
              "    </tr>\n",
              "    <tr>\n",
              "      <th>1864</th>\n",
              "      <td>30</td>\n",
              "    </tr>\n",
              "    <tr>\n",
              "      <th>1865</th>\n",
              "      <td>10</td>\n",
              "    </tr>\n",
              "    <tr>\n",
              "      <th>1868</th>\n",
              "      <td>38</td>\n",
              "    </tr>\n",
              "  </tbody>\n",
              "</table>\n",
              "<p>1159 rows × 1 columns</p>\n",
              "</div>"
            ],
            "text/plain": [
              "         Correct Submits\n",
              "user_id                 \n",
              "1                      1\n",
              "4                     44\n",
              "5                      3\n",
              "6                     89\n",
              "7                      0\n",
              "...                  ...\n",
              "1860                  29\n",
              "1862                   4\n",
              "1864                  30\n",
              "1865                  10\n",
              "1868                  38\n",
              "\n",
              "[1159 rows x 1 columns]"
            ]
          },
          "metadata": {
            "tags": []
          },
          "execution_count": 6
        }
      ]
    },
    {
      "cell_type": "markdown",
      "metadata": {
        "id": "v_1g8Bkns7Bo"
      },
      "source": [
        "**Số lượng Problems có submit**"
      ]
    },
    {
      "cell_type": "code",
      "metadata": {
        "colab": {
          "base_uri": "https://localhost:8080/",
          "height": 450
        },
        "id": "JnPInPP8s515",
        "outputId": "d3da7305-9478-4636-928f-53f90fbb343e"
      },
      "source": [
        "PHaS = pd.DataFrame(wc_data['user_id'])\n",
        "PHaS['Problems Have Submit'] = pd.DataFrame(wc_data['is_final'])\n",
        "PHaS = PHaS.groupby(['user_id']).sum()\n",
        "PHaS"
      ],
      "execution_count": 7,
      "outputs": [
        {
          "output_type": "execute_result",
          "data": {
            "text/html": [
              "<div>\n",
              "<style scoped>\n",
              "    .dataframe tbody tr th:only-of-type {\n",
              "        vertical-align: middle;\n",
              "    }\n",
              "\n",
              "    .dataframe tbody tr th {\n",
              "        vertical-align: top;\n",
              "    }\n",
              "\n",
              "    .dataframe thead th {\n",
              "        text-align: right;\n",
              "    }\n",
              "</style>\n",
              "<table border=\"1\" class=\"dataframe\">\n",
              "  <thead>\n",
              "    <tr style=\"text-align: right;\">\n",
              "      <th></th>\n",
              "      <th>Problems Have Submit</th>\n",
              "    </tr>\n",
              "    <tr>\n",
              "      <th>user_id</th>\n",
              "      <th></th>\n",
              "    </tr>\n",
              "  </thead>\n",
              "  <tbody>\n",
              "    <tr>\n",
              "      <th>1</th>\n",
              "      <td>2</td>\n",
              "    </tr>\n",
              "    <tr>\n",
              "      <th>4</th>\n",
              "      <td>38</td>\n",
              "    </tr>\n",
              "    <tr>\n",
              "      <th>5</th>\n",
              "      <td>5</td>\n",
              "    </tr>\n",
              "    <tr>\n",
              "      <th>6</th>\n",
              "      <td>88</td>\n",
              "    </tr>\n",
              "    <tr>\n",
              "      <th>7</th>\n",
              "      <td>2</td>\n",
              "    </tr>\n",
              "    <tr>\n",
              "      <th>...</th>\n",
              "      <td>...</td>\n",
              "    </tr>\n",
              "    <tr>\n",
              "      <th>1860</th>\n",
              "      <td>48</td>\n",
              "    </tr>\n",
              "    <tr>\n",
              "      <th>1862</th>\n",
              "      <td>6</td>\n",
              "    </tr>\n",
              "    <tr>\n",
              "      <th>1864</th>\n",
              "      <td>63</td>\n",
              "    </tr>\n",
              "    <tr>\n",
              "      <th>1865</th>\n",
              "      <td>17</td>\n",
              "    </tr>\n",
              "    <tr>\n",
              "      <th>1868</th>\n",
              "      <td>27</td>\n",
              "    </tr>\n",
              "  </tbody>\n",
              "</table>\n",
              "<p>1159 rows × 1 columns</p>\n",
              "</div>"
            ],
            "text/plain": [
              "         Problems Have Submit\n",
              "user_id                      \n",
              "1                           2\n",
              "4                          38\n",
              "5                           5\n",
              "6                          88\n",
              "7                           2\n",
              "...                       ...\n",
              "1860                       48\n",
              "1862                        6\n",
              "1864                       63\n",
              "1865                       17\n",
              "1868                       27\n",
              "\n",
              "[1159 rows x 1 columns]"
            ]
          },
          "metadata": {
            "tags": []
          },
          "execution_count": 7
        }
      ]
    },
    {
      "cell_type": "markdown",
      "metadata": {
        "id": "7fe-Kp2OpPEN"
      },
      "source": [
        "**Tìm Problems Đã Submit**"
      ]
    },
    {
      "cell_type": "code",
      "metadata": {
        "colab": {
          "base_uri": "https://localhost:8080/",
          "height": 450
        },
        "id": "ufKePGSYnLwI",
        "outputId": "993d6545-09cd-46af-8216-ec4afc0d96ae"
      },
      "source": [
        "Prob_Submit = pd.DataFrame(wc_data['assignment_id'])\n",
        "Prob_Submit['user_id'] = pd.DataFrame(wc_data['user_id'])\n",
        "Prob_Submit['Problems Submit'] =  pd.DataFrame(wc_data['problem_id'])\n",
        "Prob_Submit = Prob_Submit.groupby(['assignment_id', 'user_id']).nunique().reset_index()\n",
        "Prob_Submit = Prob_Submit.groupby(['user_id']).sum()\n",
        "Prob_Submit = Prob_Submit.drop(columns= ['assignment_id'])\n",
        "Prob_Submit"
      ],
      "execution_count": 8,
      "outputs": [
        {
          "output_type": "execute_result",
          "data": {
            "text/html": [
              "<div>\n",
              "<style scoped>\n",
              "    .dataframe tbody tr th:only-of-type {\n",
              "        vertical-align: middle;\n",
              "    }\n",
              "\n",
              "    .dataframe tbody tr th {\n",
              "        vertical-align: top;\n",
              "    }\n",
              "\n",
              "    .dataframe thead th {\n",
              "        text-align: right;\n",
              "    }\n",
              "</style>\n",
              "<table border=\"1\" class=\"dataframe\">\n",
              "  <thead>\n",
              "    <tr style=\"text-align: right;\">\n",
              "      <th></th>\n",
              "      <th>Problems Submit</th>\n",
              "    </tr>\n",
              "    <tr>\n",
              "      <th>user_id</th>\n",
              "      <th></th>\n",
              "    </tr>\n",
              "  </thead>\n",
              "  <tbody>\n",
              "    <tr>\n",
              "      <th>1</th>\n",
              "      <td>2</td>\n",
              "    </tr>\n",
              "    <tr>\n",
              "      <th>4</th>\n",
              "      <td>41</td>\n",
              "    </tr>\n",
              "    <tr>\n",
              "      <th>5</th>\n",
              "      <td>5</td>\n",
              "    </tr>\n",
              "    <tr>\n",
              "      <th>6</th>\n",
              "      <td>89</td>\n",
              "    </tr>\n",
              "    <tr>\n",
              "      <th>7</th>\n",
              "      <td>2</td>\n",
              "    </tr>\n",
              "    <tr>\n",
              "      <th>...</th>\n",
              "      <td>...</td>\n",
              "    </tr>\n",
              "    <tr>\n",
              "      <th>1860</th>\n",
              "      <td>48</td>\n",
              "    </tr>\n",
              "    <tr>\n",
              "      <th>1862</th>\n",
              "      <td>6</td>\n",
              "    </tr>\n",
              "    <tr>\n",
              "      <th>1864</th>\n",
              "      <td>63</td>\n",
              "    </tr>\n",
              "    <tr>\n",
              "      <th>1865</th>\n",
              "      <td>17</td>\n",
              "    </tr>\n",
              "    <tr>\n",
              "      <th>1868</th>\n",
              "      <td>28</td>\n",
              "    </tr>\n",
              "  </tbody>\n",
              "</table>\n",
              "<p>1159 rows × 1 columns</p>\n",
              "</div>"
            ],
            "text/plain": [
              "         Problems Submit\n",
              "user_id                 \n",
              "1                      2\n",
              "4                     41\n",
              "5                      5\n",
              "6                     89\n",
              "7                      2\n",
              "...                  ...\n",
              "1860                  48\n",
              "1862                   6\n",
              "1864                  63\n",
              "1865                  17\n",
              "1868                  28\n",
              "\n",
              "[1159 rows x 1 columns]"
            ]
          },
          "metadata": {
            "tags": []
          },
          "execution_count": 8
        }
      ]
    },
    {
      "cell_type": "code",
      "metadata": {
        "id": "jhzlCUf6JV7z",
        "colab": {
          "base_uri": "https://localhost:8080/",
          "height": 419
        },
        "outputId": "5ad6290c-cf73-4282-a213-2d0dc157f82e"
      },
      "source": [
        "Data = pd.concat([Total_Submit, Prob_Submit, PHaS, wc_tsolved, wc_fscore], axis=1)\n",
        "Data = Data.fillna(0.0)\n",
        "Data"
      ],
      "execution_count": 9,
      "outputs": [
        {
          "output_type": "execute_result",
          "data": {
            "text/html": [
              "<div>\n",
              "<style scoped>\n",
              "    .dataframe tbody tr th:only-of-type {\n",
              "        vertical-align: middle;\n",
              "    }\n",
              "\n",
              "    .dataframe tbody tr th {\n",
              "        vertical-align: top;\n",
              "    }\n",
              "\n",
              "    .dataframe thead th {\n",
              "        text-align: right;\n",
              "    }\n",
              "</style>\n",
              "<table border=\"1\" class=\"dataframe\">\n",
              "  <thead>\n",
              "    <tr style=\"text-align: right;\">\n",
              "      <th></th>\n",
              "      <th>Total Submit</th>\n",
              "      <th>Problems Submit</th>\n",
              "      <th>Problems Have Submit</th>\n",
              "      <th>Total Solved</th>\n",
              "      <th>Correct Submits</th>\n",
              "      <th>Final Score</th>\n",
              "    </tr>\n",
              "  </thead>\n",
              "  <tbody>\n",
              "    <tr>\n",
              "      <th>1</th>\n",
              "      <td>2</td>\n",
              "      <td>2</td>\n",
              "      <td>2</td>\n",
              "      <td>1</td>\n",
              "      <td>1</td>\n",
              "      <td>10000.0</td>\n",
              "    </tr>\n",
              "    <tr>\n",
              "      <th>4</th>\n",
              "      <td>54</td>\n",
              "      <td>41</td>\n",
              "      <td>38</td>\n",
              "      <td>37</td>\n",
              "      <td>44</td>\n",
              "      <td>370000.0</td>\n",
              "    </tr>\n",
              "    <tr>\n",
              "      <th>5</th>\n",
              "      <td>6</td>\n",
              "      <td>5</td>\n",
              "      <td>5</td>\n",
              "      <td>3</td>\n",
              "      <td>3</td>\n",
              "      <td>30000.0</td>\n",
              "    </tr>\n",
              "    <tr>\n",
              "      <th>6</th>\n",
              "      <td>130</td>\n",
              "      <td>89</td>\n",
              "      <td>88</td>\n",
              "      <td>85</td>\n",
              "      <td>89</td>\n",
              "      <td>850000.0</td>\n",
              "    </tr>\n",
              "    <tr>\n",
              "      <th>7</th>\n",
              "      <td>5</td>\n",
              "      <td>2</td>\n",
              "      <td>2</td>\n",
              "      <td>0</td>\n",
              "      <td>0</td>\n",
              "      <td>9209.0</td>\n",
              "    </tr>\n",
              "    <tr>\n",
              "      <th>...</th>\n",
              "      <td>...</td>\n",
              "      <td>...</td>\n",
              "      <td>...</td>\n",
              "      <td>...</td>\n",
              "      <td>...</td>\n",
              "      <td>...</td>\n",
              "    </tr>\n",
              "    <tr>\n",
              "      <th>1860</th>\n",
              "      <td>76</td>\n",
              "      <td>48</td>\n",
              "      <td>48</td>\n",
              "      <td>28</td>\n",
              "      <td>29</td>\n",
              "      <td>329665.0</td>\n",
              "    </tr>\n",
              "    <tr>\n",
              "      <th>1862</th>\n",
              "      <td>12</td>\n",
              "      <td>6</td>\n",
              "      <td>6</td>\n",
              "      <td>4</td>\n",
              "      <td>4</td>\n",
              "      <td>40000.0</td>\n",
              "    </tr>\n",
              "    <tr>\n",
              "      <th>1864</th>\n",
              "      <td>187</td>\n",
              "      <td>63</td>\n",
              "      <td>63</td>\n",
              "      <td>28</td>\n",
              "      <td>30</td>\n",
              "      <td>439741.0</td>\n",
              "    </tr>\n",
              "    <tr>\n",
              "      <th>1865</th>\n",
              "      <td>99</td>\n",
              "      <td>17</td>\n",
              "      <td>17</td>\n",
              "      <td>10</td>\n",
              "      <td>10</td>\n",
              "      <td>116428.0</td>\n",
              "    </tr>\n",
              "    <tr>\n",
              "      <th>1868</th>\n",
              "      <td>47</td>\n",
              "      <td>28</td>\n",
              "      <td>27</td>\n",
              "      <td>27</td>\n",
              "      <td>38</td>\n",
              "      <td>270000.0</td>\n",
              "    </tr>\n",
              "  </tbody>\n",
              "</table>\n",
              "<p>1159 rows × 6 columns</p>\n",
              "</div>"
            ],
            "text/plain": [
              "      Total Submit  Problems Submit  ...  Correct Submits  Final Score\n",
              "1                2                2  ...                1      10000.0\n",
              "4               54               41  ...               44     370000.0\n",
              "5                6                5  ...                3      30000.0\n",
              "6              130               89  ...               89     850000.0\n",
              "7                5                2  ...                0       9209.0\n",
              "...            ...              ...  ...              ...          ...\n",
              "1860            76               48  ...               29     329665.0\n",
              "1862            12                6  ...                4      40000.0\n",
              "1864           187               63  ...               30     439741.0\n",
              "1865            99               17  ...               10     116428.0\n",
              "1868            47               28  ...               38     270000.0\n",
              "\n",
              "[1159 rows x 6 columns]"
            ]
          },
          "metadata": {
            "tags": []
          },
          "execution_count": 9
        }
      ]
    },
    {
      "cell_type": "markdown",
      "metadata": {
        "id": "OQxHa86Vedzo"
      },
      "source": [
        "**Tính Toán Các Nhóm Ý Kiến**"
      ]
    },
    {
      "cell_type": "code",
      "metadata": {
        "id": "II_DgngOeixC",
        "colab": {
          "base_uri": "https://localhost:8080/",
          "height": 419
        },
        "outputId": "4112a3f1-1dd3-4920-b21e-bc7c2057fc50"
      },
      "source": [
        "Calc_Idea = pd.DataFrame()\n",
        "#O1: Tổng số problem đã solved (is_final = 1 && pre_score=10000) / Tổng số problem có submit\n",
        "Calc_Idea['Opinion 1'] =Data['Total Solved'] / Data['Problems Have Submit']\n",
        "#O2: Tổng số problem đã sumbit / Tổng số submissions \n",
        "Calc_Idea['Opinion 2'] =Data['Problems Have Submit'] / Data['Total Submit']\n",
        "#O3: Số lần submit đúng (pre_score=10000) / tổng số submissions \n",
        "Calc_Idea['Opinion 3'] =Data['Correct Submits'] / Data['Total Submit']\n",
        "#O5: Tổng pre_score của các submssion có is_final = 1\n",
        "Calc_Idea['Opinion 5'] = Data['Final Score']\n",
        "#06: Tổng số submission\n",
        "Calc_Idea['Opinion 6'] = Data['Total Submit']\n",
        "Calc_Idea"
      ],
      "execution_count": 10,
      "outputs": [
        {
          "output_type": "execute_result",
          "data": {
            "text/html": [
              "<div>\n",
              "<style scoped>\n",
              "    .dataframe tbody tr th:only-of-type {\n",
              "        vertical-align: middle;\n",
              "    }\n",
              "\n",
              "    .dataframe tbody tr th {\n",
              "        vertical-align: top;\n",
              "    }\n",
              "\n",
              "    .dataframe thead th {\n",
              "        text-align: right;\n",
              "    }\n",
              "</style>\n",
              "<table border=\"1\" class=\"dataframe\">\n",
              "  <thead>\n",
              "    <tr style=\"text-align: right;\">\n",
              "      <th></th>\n",
              "      <th>Opinion 1</th>\n",
              "      <th>Opinion 2</th>\n",
              "      <th>Opinion 3</th>\n",
              "      <th>Opinion 5</th>\n",
              "      <th>Opinion 6</th>\n",
              "    </tr>\n",
              "  </thead>\n",
              "  <tbody>\n",
              "    <tr>\n",
              "      <th>1</th>\n",
              "      <td>0.500000</td>\n",
              "      <td>1.000000</td>\n",
              "      <td>0.500000</td>\n",
              "      <td>10000.0</td>\n",
              "      <td>2</td>\n",
              "    </tr>\n",
              "    <tr>\n",
              "      <th>4</th>\n",
              "      <td>0.973684</td>\n",
              "      <td>0.703704</td>\n",
              "      <td>0.814815</td>\n",
              "      <td>370000.0</td>\n",
              "      <td>54</td>\n",
              "    </tr>\n",
              "    <tr>\n",
              "      <th>5</th>\n",
              "      <td>0.600000</td>\n",
              "      <td>0.833333</td>\n",
              "      <td>0.500000</td>\n",
              "      <td>30000.0</td>\n",
              "      <td>6</td>\n",
              "    </tr>\n",
              "    <tr>\n",
              "      <th>6</th>\n",
              "      <td>0.965909</td>\n",
              "      <td>0.676923</td>\n",
              "      <td>0.684615</td>\n",
              "      <td>850000.0</td>\n",
              "      <td>130</td>\n",
              "    </tr>\n",
              "    <tr>\n",
              "      <th>7</th>\n",
              "      <td>0.000000</td>\n",
              "      <td>0.400000</td>\n",
              "      <td>0.000000</td>\n",
              "      <td>9209.0</td>\n",
              "      <td>5</td>\n",
              "    </tr>\n",
              "    <tr>\n",
              "      <th>...</th>\n",
              "      <td>...</td>\n",
              "      <td>...</td>\n",
              "      <td>...</td>\n",
              "      <td>...</td>\n",
              "      <td>...</td>\n",
              "    </tr>\n",
              "    <tr>\n",
              "      <th>1860</th>\n",
              "      <td>0.583333</td>\n",
              "      <td>0.631579</td>\n",
              "      <td>0.381579</td>\n",
              "      <td>329665.0</td>\n",
              "      <td>76</td>\n",
              "    </tr>\n",
              "    <tr>\n",
              "      <th>1862</th>\n",
              "      <td>0.666667</td>\n",
              "      <td>0.500000</td>\n",
              "      <td>0.333333</td>\n",
              "      <td>40000.0</td>\n",
              "      <td>12</td>\n",
              "    </tr>\n",
              "    <tr>\n",
              "      <th>1864</th>\n",
              "      <td>0.444444</td>\n",
              "      <td>0.336898</td>\n",
              "      <td>0.160428</td>\n",
              "      <td>439741.0</td>\n",
              "      <td>187</td>\n",
              "    </tr>\n",
              "    <tr>\n",
              "      <th>1865</th>\n",
              "      <td>0.588235</td>\n",
              "      <td>0.171717</td>\n",
              "      <td>0.101010</td>\n",
              "      <td>116428.0</td>\n",
              "      <td>99</td>\n",
              "    </tr>\n",
              "    <tr>\n",
              "      <th>1868</th>\n",
              "      <td>1.000000</td>\n",
              "      <td>0.574468</td>\n",
              "      <td>0.808511</td>\n",
              "      <td>270000.0</td>\n",
              "      <td>47</td>\n",
              "    </tr>\n",
              "  </tbody>\n",
              "</table>\n",
              "<p>1159 rows × 5 columns</p>\n",
              "</div>"
            ],
            "text/plain": [
              "      Opinion 1  Opinion 2  Opinion 3  Opinion 5  Opinion 6\n",
              "1      0.500000   1.000000   0.500000    10000.0          2\n",
              "4      0.973684   0.703704   0.814815   370000.0         54\n",
              "5      0.600000   0.833333   0.500000    30000.0          6\n",
              "6      0.965909   0.676923   0.684615   850000.0        130\n",
              "7      0.000000   0.400000   0.000000     9209.0          5\n",
              "...         ...        ...        ...        ...        ...\n",
              "1860   0.583333   0.631579   0.381579   329665.0         76\n",
              "1862   0.666667   0.500000   0.333333    40000.0         12\n",
              "1864   0.444444   0.336898   0.160428   439741.0        187\n",
              "1865   0.588235   0.171717   0.101010   116428.0         99\n",
              "1868   1.000000   0.574468   0.808511   270000.0         47\n",
              "\n",
              "[1159 rows x 5 columns]"
            ]
          },
          "metadata": {
            "tags": []
          },
          "execution_count": 10
        }
      ]
    },
    {
      "cell_type": "code",
      "metadata": {
        "colab": {
          "base_uri": "https://localhost:8080/",
          "height": 436
        },
        "id": "hUrsgKfHXQdX",
        "outputId": "6e757544-2fa5-4a3d-f652-07a3cb9781d9"
      },
      "source": [
        "stack = pd.concat([Data, Calc_Idea], axis=1)\n",
        "stack = stack.reset_index()\n",
        "stack = stack.rename(columns={'index': 'id'})\n",
        "stack"
      ],
      "execution_count": 11,
      "outputs": [
        {
          "output_type": "execute_result",
          "data": {
            "text/html": [
              "<div>\n",
              "<style scoped>\n",
              "    .dataframe tbody tr th:only-of-type {\n",
              "        vertical-align: middle;\n",
              "    }\n",
              "\n",
              "    .dataframe tbody tr th {\n",
              "        vertical-align: top;\n",
              "    }\n",
              "\n",
              "    .dataframe thead th {\n",
              "        text-align: right;\n",
              "    }\n",
              "</style>\n",
              "<table border=\"1\" class=\"dataframe\">\n",
              "  <thead>\n",
              "    <tr style=\"text-align: right;\">\n",
              "      <th></th>\n",
              "      <th>id</th>\n",
              "      <th>Total Submit</th>\n",
              "      <th>Problems Submit</th>\n",
              "      <th>Problems Have Submit</th>\n",
              "      <th>Total Solved</th>\n",
              "      <th>Correct Submits</th>\n",
              "      <th>Final Score</th>\n",
              "      <th>Opinion 1</th>\n",
              "      <th>Opinion 2</th>\n",
              "      <th>Opinion 3</th>\n",
              "      <th>Opinion 5</th>\n",
              "      <th>Opinion 6</th>\n",
              "    </tr>\n",
              "  </thead>\n",
              "  <tbody>\n",
              "    <tr>\n",
              "      <th>0</th>\n",
              "      <td>1</td>\n",
              "      <td>2</td>\n",
              "      <td>2</td>\n",
              "      <td>2</td>\n",
              "      <td>1</td>\n",
              "      <td>1</td>\n",
              "      <td>10000.0</td>\n",
              "      <td>0.500000</td>\n",
              "      <td>1.000000</td>\n",
              "      <td>0.500000</td>\n",
              "      <td>10000.0</td>\n",
              "      <td>2</td>\n",
              "    </tr>\n",
              "    <tr>\n",
              "      <th>1</th>\n",
              "      <td>4</td>\n",
              "      <td>54</td>\n",
              "      <td>41</td>\n",
              "      <td>38</td>\n",
              "      <td>37</td>\n",
              "      <td>44</td>\n",
              "      <td>370000.0</td>\n",
              "      <td>0.973684</td>\n",
              "      <td>0.703704</td>\n",
              "      <td>0.814815</td>\n",
              "      <td>370000.0</td>\n",
              "      <td>54</td>\n",
              "    </tr>\n",
              "    <tr>\n",
              "      <th>2</th>\n",
              "      <td>5</td>\n",
              "      <td>6</td>\n",
              "      <td>5</td>\n",
              "      <td>5</td>\n",
              "      <td>3</td>\n",
              "      <td>3</td>\n",
              "      <td>30000.0</td>\n",
              "      <td>0.600000</td>\n",
              "      <td>0.833333</td>\n",
              "      <td>0.500000</td>\n",
              "      <td>30000.0</td>\n",
              "      <td>6</td>\n",
              "    </tr>\n",
              "    <tr>\n",
              "      <th>3</th>\n",
              "      <td>6</td>\n",
              "      <td>130</td>\n",
              "      <td>89</td>\n",
              "      <td>88</td>\n",
              "      <td>85</td>\n",
              "      <td>89</td>\n",
              "      <td>850000.0</td>\n",
              "      <td>0.965909</td>\n",
              "      <td>0.676923</td>\n",
              "      <td>0.684615</td>\n",
              "      <td>850000.0</td>\n",
              "      <td>130</td>\n",
              "    </tr>\n",
              "    <tr>\n",
              "      <th>4</th>\n",
              "      <td>7</td>\n",
              "      <td>5</td>\n",
              "      <td>2</td>\n",
              "      <td>2</td>\n",
              "      <td>0</td>\n",
              "      <td>0</td>\n",
              "      <td>9209.0</td>\n",
              "      <td>0.000000</td>\n",
              "      <td>0.400000</td>\n",
              "      <td>0.000000</td>\n",
              "      <td>9209.0</td>\n",
              "      <td>5</td>\n",
              "    </tr>\n",
              "    <tr>\n",
              "      <th>...</th>\n",
              "      <td>...</td>\n",
              "      <td>...</td>\n",
              "      <td>...</td>\n",
              "      <td>...</td>\n",
              "      <td>...</td>\n",
              "      <td>...</td>\n",
              "      <td>...</td>\n",
              "      <td>...</td>\n",
              "      <td>...</td>\n",
              "      <td>...</td>\n",
              "      <td>...</td>\n",
              "      <td>...</td>\n",
              "    </tr>\n",
              "    <tr>\n",
              "      <th>1154</th>\n",
              "      <td>1860</td>\n",
              "      <td>76</td>\n",
              "      <td>48</td>\n",
              "      <td>48</td>\n",
              "      <td>28</td>\n",
              "      <td>29</td>\n",
              "      <td>329665.0</td>\n",
              "      <td>0.583333</td>\n",
              "      <td>0.631579</td>\n",
              "      <td>0.381579</td>\n",
              "      <td>329665.0</td>\n",
              "      <td>76</td>\n",
              "    </tr>\n",
              "    <tr>\n",
              "      <th>1155</th>\n",
              "      <td>1862</td>\n",
              "      <td>12</td>\n",
              "      <td>6</td>\n",
              "      <td>6</td>\n",
              "      <td>4</td>\n",
              "      <td>4</td>\n",
              "      <td>40000.0</td>\n",
              "      <td>0.666667</td>\n",
              "      <td>0.500000</td>\n",
              "      <td>0.333333</td>\n",
              "      <td>40000.0</td>\n",
              "      <td>12</td>\n",
              "    </tr>\n",
              "    <tr>\n",
              "      <th>1156</th>\n",
              "      <td>1864</td>\n",
              "      <td>187</td>\n",
              "      <td>63</td>\n",
              "      <td>63</td>\n",
              "      <td>28</td>\n",
              "      <td>30</td>\n",
              "      <td>439741.0</td>\n",
              "      <td>0.444444</td>\n",
              "      <td>0.336898</td>\n",
              "      <td>0.160428</td>\n",
              "      <td>439741.0</td>\n",
              "      <td>187</td>\n",
              "    </tr>\n",
              "    <tr>\n",
              "      <th>1157</th>\n",
              "      <td>1865</td>\n",
              "      <td>99</td>\n",
              "      <td>17</td>\n",
              "      <td>17</td>\n",
              "      <td>10</td>\n",
              "      <td>10</td>\n",
              "      <td>116428.0</td>\n",
              "      <td>0.588235</td>\n",
              "      <td>0.171717</td>\n",
              "      <td>0.101010</td>\n",
              "      <td>116428.0</td>\n",
              "      <td>99</td>\n",
              "    </tr>\n",
              "    <tr>\n",
              "      <th>1158</th>\n",
              "      <td>1868</td>\n",
              "      <td>47</td>\n",
              "      <td>28</td>\n",
              "      <td>27</td>\n",
              "      <td>27</td>\n",
              "      <td>38</td>\n",
              "      <td>270000.0</td>\n",
              "      <td>1.000000</td>\n",
              "      <td>0.574468</td>\n",
              "      <td>0.808511</td>\n",
              "      <td>270000.0</td>\n",
              "      <td>47</td>\n",
              "    </tr>\n",
              "  </tbody>\n",
              "</table>\n",
              "<p>1159 rows × 12 columns</p>\n",
              "</div>"
            ],
            "text/plain": [
              "        id  Total Submit  Problems Submit  ...  Opinion 3  Opinion 5  Opinion 6\n",
              "0        1             2                2  ...   0.500000    10000.0          2\n",
              "1        4            54               41  ...   0.814815   370000.0         54\n",
              "2        5             6                5  ...   0.500000    30000.0          6\n",
              "3        6           130               89  ...   0.684615   850000.0        130\n",
              "4        7             5                2  ...   0.000000     9209.0          5\n",
              "...    ...           ...              ...  ...        ...        ...        ...\n",
              "1154  1860            76               48  ...   0.381579   329665.0         76\n",
              "1155  1862            12                6  ...   0.333333    40000.0         12\n",
              "1156  1864           187               63  ...   0.160428   439741.0        187\n",
              "1157  1865            99               17  ...   0.101010   116428.0         99\n",
              "1158  1868            47               28  ...   0.808511   270000.0         47\n",
              "\n",
              "[1159 rows x 12 columns]"
            ]
          },
          "metadata": {
            "tags": []
          },
          "execution_count": 11
        }
      ]
    },
    {
      "cell_type": "markdown",
      "metadata": {
        "id": "H6QrS7pksWp9"
      },
      "source": [
        "**Merge Data**"
      ]
    },
    {
      "cell_type": "code",
      "metadata": {
        "colab": {
          "base_uri": "https://localhost:8080/",
          "height": 204
        },
        "id": "zE5wNExjYnz8",
        "outputId": "9701ae47-ee37-42c5-b998-612c56805ff1"
      },
      "source": [
        "sc_train = sc_training.dropna(how='any')\n",
        "sc_train.head()"
      ],
      "execution_count": 12,
      "outputs": [
        {
          "output_type": "execute_result",
          "data": {
            "text/html": [
              "<div>\n",
              "<style scoped>\n",
              "    .dataframe tbody tr th:only-of-type {\n",
              "        vertical-align: middle;\n",
              "    }\n",
              "\n",
              "    .dataframe tbody tr th {\n",
              "        vertical-align: top;\n",
              "    }\n",
              "\n",
              "    .dataframe thead th {\n",
              "        text-align: right;\n",
              "    }\n",
              "</style>\n",
              "<table border=\"1\" class=\"dataframe\">\n",
              "  <thead>\n",
              "    <tr style=\"text-align: right;\">\n",
              "      <th></th>\n",
              "      <th>id</th>\n",
              "      <th>CK</th>\n",
              "    </tr>\n",
              "  </thead>\n",
              "  <tbody>\n",
              "    <tr>\n",
              "      <th>0</th>\n",
              "      <td>22</td>\n",
              "      <td>8.5</td>\n",
              "    </tr>\n",
              "    <tr>\n",
              "      <th>1</th>\n",
              "      <td>24</td>\n",
              "      <td>9.5</td>\n",
              "    </tr>\n",
              "    <tr>\n",
              "      <th>2</th>\n",
              "      <td>27</td>\n",
              "      <td>10.0</td>\n",
              "    </tr>\n",
              "    <tr>\n",
              "      <th>3</th>\n",
              "      <td>28</td>\n",
              "      <td>9.5</td>\n",
              "    </tr>\n",
              "    <tr>\n",
              "      <th>4</th>\n",
              "      <td>29</td>\n",
              "      <td>8.5</td>\n",
              "    </tr>\n",
              "  </tbody>\n",
              "</table>\n",
              "</div>"
            ],
            "text/plain": [
              "   id    CK\n",
              "0  22   8.5\n",
              "1  24   9.5\n",
              "2  27  10.0\n",
              "3  28   9.5\n",
              "4  29   8.5"
            ]
          },
          "metadata": {
            "tags": []
          },
          "execution_count": 12
        }
      ]
    },
    {
      "cell_type": "code",
      "metadata": {
        "colab": {
          "base_uri": "https://localhost:8080/",
          "height": 204
        },
        "id": "40qHx8g1Y8XF",
        "outputId": "4cd28827-f2cf-4816-8dc3-a25cd28a25a4"
      },
      "source": [
        "sc_predict = sc_training[sc_training.isna().any(axis=1)]\n",
        "sc_predict.head()"
      ],
      "execution_count": 13,
      "outputs": [
        {
          "output_type": "execute_result",
          "data": {
            "text/html": [
              "<div>\n",
              "<style scoped>\n",
              "    .dataframe tbody tr th:only-of-type {\n",
              "        vertical-align: middle;\n",
              "    }\n",
              "\n",
              "    .dataframe tbody tr th {\n",
              "        vertical-align: top;\n",
              "    }\n",
              "\n",
              "    .dataframe thead th {\n",
              "        text-align: right;\n",
              "    }\n",
              "</style>\n",
              "<table border=\"1\" class=\"dataframe\">\n",
              "  <thead>\n",
              "    <tr style=\"text-align: right;\">\n",
              "      <th></th>\n",
              "      <th>id</th>\n",
              "      <th>CK</th>\n",
              "    </tr>\n",
              "  </thead>\n",
              "  <tbody>\n",
              "    <tr>\n",
              "      <th>19</th>\n",
              "      <td>51</td>\n",
              "      <td>NaN</td>\n",
              "    </tr>\n",
              "    <tr>\n",
              "      <th>127</th>\n",
              "      <td>240</td>\n",
              "      <td>NaN</td>\n",
              "    </tr>\n",
              "    <tr>\n",
              "      <th>211</th>\n",
              "      <td>391</td>\n",
              "      <td>NaN</td>\n",
              "    </tr>\n",
              "    <tr>\n",
              "      <th>292</th>\n",
              "      <td>513</td>\n",
              "      <td>NaN</td>\n",
              "    </tr>\n",
              "    <tr>\n",
              "      <th>333</th>\n",
              "      <td>586</td>\n",
              "      <td>NaN</td>\n",
              "    </tr>\n",
              "  </tbody>\n",
              "</table>\n",
              "</div>"
            ],
            "text/plain": [
              "      id  CK\n",
              "19    51 NaN\n",
              "127  240 NaN\n",
              "211  391 NaN\n",
              "292  513 NaN\n",
              "333  586 NaN"
            ]
          },
          "metadata": {
            "tags": []
          },
          "execution_count": 13
        }
      ]
    },
    {
      "cell_type": "code",
      "metadata": {
        "colab": {
          "base_uri": "https://localhost:8080/",
          "height": 221
        },
        "id": "bpRA5X4maQmb",
        "outputId": "dec6520b-0879-491a-f379-474d51c9b374"
      },
      "source": [
        "training_data = pd.merge(sc_train, stack, how='inner', on='id')\n",
        "training_data.head()"
      ],
      "execution_count": 14,
      "outputs": [
        {
          "output_type": "execute_result",
          "data": {
            "text/html": [
              "<div>\n",
              "<style scoped>\n",
              "    .dataframe tbody tr th:only-of-type {\n",
              "        vertical-align: middle;\n",
              "    }\n",
              "\n",
              "    .dataframe tbody tr th {\n",
              "        vertical-align: top;\n",
              "    }\n",
              "\n",
              "    .dataframe thead th {\n",
              "        text-align: right;\n",
              "    }\n",
              "</style>\n",
              "<table border=\"1\" class=\"dataframe\">\n",
              "  <thead>\n",
              "    <tr style=\"text-align: right;\">\n",
              "      <th></th>\n",
              "      <th>id</th>\n",
              "      <th>CK</th>\n",
              "      <th>Total Submit</th>\n",
              "      <th>Problems Submit</th>\n",
              "      <th>Problems Have Submit</th>\n",
              "      <th>Total Solved</th>\n",
              "      <th>Correct Submits</th>\n",
              "      <th>Final Score</th>\n",
              "      <th>Opinion 1</th>\n",
              "      <th>Opinion 2</th>\n",
              "      <th>Opinion 3</th>\n",
              "      <th>Opinion 5</th>\n",
              "      <th>Opinion 6</th>\n",
              "    </tr>\n",
              "  </thead>\n",
              "  <tbody>\n",
              "    <tr>\n",
              "      <th>0</th>\n",
              "      <td>24</td>\n",
              "      <td>9.5</td>\n",
              "      <td>164</td>\n",
              "      <td>78</td>\n",
              "      <td>77</td>\n",
              "      <td>72</td>\n",
              "      <td>80</td>\n",
              "      <td>750299.0</td>\n",
              "      <td>0.935065</td>\n",
              "      <td>0.469512</td>\n",
              "      <td>0.487805</td>\n",
              "      <td>750299.0</td>\n",
              "      <td>164</td>\n",
              "    </tr>\n",
              "    <tr>\n",
              "      <th>1</th>\n",
              "      <td>27</td>\n",
              "      <td>10.0</td>\n",
              "      <td>13</td>\n",
              "      <td>5</td>\n",
              "      <td>5</td>\n",
              "      <td>3</td>\n",
              "      <td>4</td>\n",
              "      <td>39000.0</td>\n",
              "      <td>0.600000</td>\n",
              "      <td>0.384615</td>\n",
              "      <td>0.307692</td>\n",
              "      <td>39000.0</td>\n",
              "      <td>13</td>\n",
              "    </tr>\n",
              "    <tr>\n",
              "      <th>2</th>\n",
              "      <td>29</td>\n",
              "      <td>8.5</td>\n",
              "      <td>199</td>\n",
              "      <td>80</td>\n",
              "      <td>80</td>\n",
              "      <td>72</td>\n",
              "      <td>75</td>\n",
              "      <td>762760.0</td>\n",
              "      <td>0.900000</td>\n",
              "      <td>0.402010</td>\n",
              "      <td>0.376884</td>\n",
              "      <td>762760.0</td>\n",
              "      <td>199</td>\n",
              "    </tr>\n",
              "    <tr>\n",
              "      <th>3</th>\n",
              "      <td>34</td>\n",
              "      <td>6.5</td>\n",
              "      <td>218</td>\n",
              "      <td>84</td>\n",
              "      <td>84</td>\n",
              "      <td>81</td>\n",
              "      <td>81</td>\n",
              "      <td>822888.0</td>\n",
              "      <td>0.964286</td>\n",
              "      <td>0.385321</td>\n",
              "      <td>0.371560</td>\n",
              "      <td>822888.0</td>\n",
              "      <td>218</td>\n",
              "    </tr>\n",
              "    <tr>\n",
              "      <th>4</th>\n",
              "      <td>35</td>\n",
              "      <td>4.5</td>\n",
              "      <td>297</td>\n",
              "      <td>152</td>\n",
              "      <td>151</td>\n",
              "      <td>145</td>\n",
              "      <td>152</td>\n",
              "      <td>1477000.0</td>\n",
              "      <td>0.960265</td>\n",
              "      <td>0.508418</td>\n",
              "      <td>0.511785</td>\n",
              "      <td>1477000.0</td>\n",
              "      <td>297</td>\n",
              "    </tr>\n",
              "  </tbody>\n",
              "</table>\n",
              "</div>"
            ],
            "text/plain": [
              "   id    CK  Total Submit  ...  Opinion 3  Opinion 5  Opinion 6\n",
              "0  24   9.5           164  ...   0.487805   750299.0        164\n",
              "1  27  10.0            13  ...   0.307692    39000.0         13\n",
              "2  29   8.5           199  ...   0.376884   762760.0        199\n",
              "3  34   6.5           218  ...   0.371560   822888.0        218\n",
              "4  35   4.5           297  ...   0.511785  1477000.0        297\n",
              "\n",
              "[5 rows x 13 columns]"
            ]
          },
          "metadata": {
            "tags": []
          },
          "execution_count": 14
        }
      ]
    },
    {
      "cell_type": "code",
      "metadata": {
        "colab": {
          "base_uri": "https://localhost:8080/",
          "height": 221
        },
        "id": "ZktDQ_AuW_Cj",
        "outputId": "839a3bad-4ca4-4140-b9c6-cbe07938f545"
      },
      "source": [
        "predict_data = pd.merge(sc_predict, stack, how='inner', on='id')\n",
        "predict_data.head()"
      ],
      "execution_count": 15,
      "outputs": [
        {
          "output_type": "execute_result",
          "data": {
            "text/html": [
              "<div>\n",
              "<style scoped>\n",
              "    .dataframe tbody tr th:only-of-type {\n",
              "        vertical-align: middle;\n",
              "    }\n",
              "\n",
              "    .dataframe tbody tr th {\n",
              "        vertical-align: top;\n",
              "    }\n",
              "\n",
              "    .dataframe thead th {\n",
              "        text-align: right;\n",
              "    }\n",
              "</style>\n",
              "<table border=\"1\" class=\"dataframe\">\n",
              "  <thead>\n",
              "    <tr style=\"text-align: right;\">\n",
              "      <th></th>\n",
              "      <th>id</th>\n",
              "      <th>CK</th>\n",
              "      <th>Total Submit</th>\n",
              "      <th>Problems Submit</th>\n",
              "      <th>Problems Have Submit</th>\n",
              "      <th>Total Solved</th>\n",
              "      <th>Correct Submits</th>\n",
              "      <th>Final Score</th>\n",
              "      <th>Opinion 1</th>\n",
              "      <th>Opinion 2</th>\n",
              "      <th>Opinion 3</th>\n",
              "      <th>Opinion 5</th>\n",
              "      <th>Opinion 6</th>\n",
              "    </tr>\n",
              "  </thead>\n",
              "  <tbody>\n",
              "    <tr>\n",
              "      <th>0</th>\n",
              "      <td>51</td>\n",
              "      <td>NaN</td>\n",
              "      <td>86</td>\n",
              "      <td>39</td>\n",
              "      <td>39</td>\n",
              "      <td>38</td>\n",
              "      <td>40</td>\n",
              "      <td>380000.0</td>\n",
              "      <td>0.974359</td>\n",
              "      <td>0.453488</td>\n",
              "      <td>0.465116</td>\n",
              "      <td>380000.0</td>\n",
              "      <td>86</td>\n",
              "    </tr>\n",
              "    <tr>\n",
              "      <th>1</th>\n",
              "      <td>240</td>\n",
              "      <td>NaN</td>\n",
              "      <td>623</td>\n",
              "      <td>138</td>\n",
              "      <td>138</td>\n",
              "      <td>126</td>\n",
              "      <td>133</td>\n",
              "      <td>1309761.0</td>\n",
              "      <td>0.913043</td>\n",
              "      <td>0.221509</td>\n",
              "      <td>0.213483</td>\n",
              "      <td>1309761.0</td>\n",
              "      <td>623</td>\n",
              "    </tr>\n",
              "    <tr>\n",
              "      <th>2</th>\n",
              "      <td>391</td>\n",
              "      <td>NaN</td>\n",
              "      <td>379</td>\n",
              "      <td>113</td>\n",
              "      <td>113</td>\n",
              "      <td>102</td>\n",
              "      <td>104</td>\n",
              "      <td>1059240.0</td>\n",
              "      <td>0.902655</td>\n",
              "      <td>0.298153</td>\n",
              "      <td>0.274406</td>\n",
              "      <td>1059240.0</td>\n",
              "      <td>379</td>\n",
              "    </tr>\n",
              "    <tr>\n",
              "      <th>3</th>\n",
              "      <td>513</td>\n",
              "      <td>NaN</td>\n",
              "      <td>672</td>\n",
              "      <td>139</td>\n",
              "      <td>140</td>\n",
              "      <td>130</td>\n",
              "      <td>135</td>\n",
              "      <td>1319307.0</td>\n",
              "      <td>0.928571</td>\n",
              "      <td>0.208333</td>\n",
              "      <td>0.200893</td>\n",
              "      <td>1319307.0</td>\n",
              "      <td>672</td>\n",
              "    </tr>\n",
              "    <tr>\n",
              "      <th>4</th>\n",
              "      <td>586</td>\n",
              "      <td>NaN</td>\n",
              "      <td>296</td>\n",
              "      <td>127</td>\n",
              "      <td>127</td>\n",
              "      <td>123</td>\n",
              "      <td>127</td>\n",
              "      <td>1238947.0</td>\n",
              "      <td>0.968504</td>\n",
              "      <td>0.429054</td>\n",
              "      <td>0.429054</td>\n",
              "      <td>1238947.0</td>\n",
              "      <td>296</td>\n",
              "    </tr>\n",
              "  </tbody>\n",
              "</table>\n",
              "</div>"
            ],
            "text/plain": [
              "    id  CK  Total Submit  ...  Opinion 3  Opinion 5  Opinion 6\n",
              "0   51 NaN            86  ...   0.465116   380000.0         86\n",
              "1  240 NaN           623  ...   0.213483  1309761.0        623\n",
              "2  391 NaN           379  ...   0.274406  1059240.0        379\n",
              "3  513 NaN           672  ...   0.200893  1319307.0        672\n",
              "4  586 NaN           296  ...   0.429054  1238947.0        296\n",
              "\n",
              "[5 rows x 13 columns]"
            ]
          },
          "metadata": {
            "tags": []
          },
          "execution_count": 15
        }
      ]
    },
    {
      "cell_type": "markdown",
      "metadata": {
        "id": "nhW9evdvkPhD"
      },
      "source": [
        "**Plot Data**"
      ]
    },
    {
      "cell_type": "code",
      "metadata": {
        "id": "p4P1KAxejzS1",
        "colab": {
          "base_uri": "https://localhost:8080/",
          "height": 296
        },
        "outputId": "5bbd16ff-86b2-408c-a107-3879ad6b11ed"
      },
      "source": [
        "plt.scatter(x=training_data['Opinion 1'],y=training_data['CK'],c='blue')\n",
        "plt.xlabel('Opinion 1')\n",
        "plt.ylabel('Final')\n",
        "plt.show"
      ],
      "execution_count": 16,
      "outputs": [
        {
          "output_type": "execute_result",
          "data": {
            "text/plain": [
              "<function matplotlib.pyplot.show>"
            ]
          },
          "metadata": {
            "tags": []
          },
          "execution_count": 16
        },
        {
          "output_type": "display_data",
          "data": {
            "image/png": "[encoded data removed]",
            "text/plain": [
              "<Figure size 432x288 with 1 Axes>"
            ]
          },
          "metadata": {
            "tags": [],
            "needs_background": "light"
          }
        }
      ]
    },
    {
      "cell_type": "code",
      "metadata": {
        "colab": {
          "base_uri": "https://localhost:8080/",
          "height": 296
        },
        "id": "kCTwQ9CxbApR",
        "outputId": "0455b4cf-8316-4b57-a4c6-e84fcb5c91bd"
      },
      "source": [
        "plt.scatter(x=training_data['Opinion 2'],y=training_data['CK'],c='red')\n",
        "plt.xlabel('Opinion 2')\n",
        "plt.ylabel('Final')\n",
        "plt.show"
      ],
      "execution_count": 17,
      "outputs": [
        {
          "output_type": "execute_result",
          "data": {
            "text/plain": [
              "<function matplotlib.pyplot.show>"
            ]
          },
          "metadata": {
            "tags": []
          },
          "execution_count": 17
        },
        {
          "output_type": "display_data",
          "data": {
            "image/png": "[encoded data removed]",
            "text/plain": [
              "<Figure size 432x288 with 1 Axes>"
            ]
          },
          "metadata": {
            "tags": [],
            "needs_background": "light"
          }
        }
      ]
    },
    {
      "cell_type": "code",
      "metadata": {
        "colab": {
          "base_uri": "https://localhost:8080/",
          "height": 296
        },
        "id": "hMmcA4xZbM0d",
        "outputId": "8e673030-db1f-4ae0-ec7a-2847207dca99"
      },
      "source": [
        "plt.scatter(x=training_data['Opinion 3'],y=training_data['CK'],c='violet')\n",
        "plt.xlabel('Opinion 3')\n",
        "plt.ylabel('Final')\n",
        "plt.show"
      ],
      "execution_count": 18,
      "outputs": [
        {
          "output_type": "execute_result",
          "data": {
            "text/plain": [
              "<function matplotlib.pyplot.show>"
            ]
          },
          "metadata": {
            "tags": []
          },
          "execution_count": 18
        },
        {
          "output_type": "display_data",
          "data": {
            "image/png": "[encoded data removed]",
            "text/plain": [
              "<Figure size 432x288 with 1 Axes>"
            ]
          },
          "metadata": {
            "tags": [],
            "needs_background": "light"
          }
        }
      ]
    },
    {
      "cell_type": "code",
      "metadata": {
        "colab": {
          "base_uri": "https://localhost:8080/",
          "height": 296
        },
        "id": "xNCZRjPebkcK",
        "outputId": "1d293928-5b0b-4bae-81c9-d7d9a03ae728"
      },
      "source": [
        "plt.scatter(x=training_data['Opinion 5'],y=training_data['CK'],c='purple')\n",
        "plt.xlabel('Opinion 5')\n",
        "plt.ylabel('Final')\n",
        "plt.show"
      ],
      "execution_count": 19,
      "outputs": [
        {
          "output_type": "execute_result",
          "data": {
            "text/plain": [
              "<function matplotlib.pyplot.show>"
            ]
          },
          "metadata": {
            "tags": []
          },
          "execution_count": 19
        },
        {
          "output_type": "display_data",
          "data": {
            "image/png": "[encoded data removed]",
            "text/plain": [
              "<Figure size 432x288 with 1 Axes>"
            ]
          },
          "metadata": {
            "tags": [],
            "needs_background": "light"
          }
        }
      ]
    },
    {
      "cell_type": "code",
      "metadata": {
        "colab": {
          "base_uri": "https://localhost:8080/",
          "height": 296
        },
        "id": "vKxrt5bZboUe",
        "outputId": "22aaaa77-ca9a-4112-90d2-5c184f9e9ad4"
      },
      "source": [
        "plt.scatter(x=training_data['Opinion 6'],y=training_data['CK'],c='green')\n",
        "plt.xlabel('Opinion 6')\n",
        "plt.ylabel('Final')\n",
        "plt.show"
      ],
      "execution_count": 20,
      "outputs": [
        {
          "output_type": "execute_result",
          "data": {
            "text/plain": [
              "<function matplotlib.pyplot.show>"
            ]
          },
          "metadata": {
            "tags": []
          },
          "execution_count": 20
        },
        {
          "output_type": "display_data",
          "data": {
            "image/png": "[encoded data removed]",
            "text/plain": [
              "<Figure size 432x288 with 1 Axes>"
            ]
          },
          "metadata": {
            "tags": [],
            "needs_background": "light"
          }
        }
      ]
    }
  ]
}