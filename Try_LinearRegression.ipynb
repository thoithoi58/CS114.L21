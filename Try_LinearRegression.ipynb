{
  "nbformat": 4,
  "nbformat_minor": 0,
  "metadata": {
    "colab": {
      "name": "Try_LinearRegression.ipynb",
      "provenance": [],
      "collapsed_sections": []
    },
    "kernelspec": {
      "name": "python3",
      "display_name": "Python 3"
    },
    "language_info": {
      "name": "python"
    }
  },
  "cells": [
    {
      "cell_type": "markdown",
      "metadata": {
        "id": "3wULHEtX7AwA"
      },
      "source": [
        "**Khai Báo Thư Viện**"
      ]
    },
    {
      "cell_type": "code",
      "metadata": {
        "id": "1NC26N9c2cQI"
      },
      "source": [
        "import matplotlib.pyplot as plt\n",
        "from sklearn.linear_model import LinearRegression\n",
        "from sklearn.metrics import mean_squared_error\n",
        "import pandas as pd\n",
        "import numpy as np\n",
        "import csv"
      ],
      "execution_count": null,
      "outputs": []
    },
    {
      "cell_type": "markdown",
      "metadata": {
        "id": "r1mhCRHe7I_L"
      },
      "source": [
        "**Đọc Dữ Liệu Train**"
      ]
    },
    {
      "cell_type": "code",
      "metadata": {
        "id": "0SR3_wFn3Wgf"
      },
      "source": [
        "X_Train = []\n",
        "Y_Train = []\n",
        "with open('/content/data2.txt') as data2:\n",
        "    data2 = csv.reader(data2, delimiter=',')\n",
        "    for x in data2:\n",
        "        X_Train.append(int(x[0]))\n",
        "        Y_Train.append(float(x[1]))"
      ],
      "execution_count": null,
      "outputs": []
    },
    {
      "cell_type": "markdown",
      "metadata": {
        "id": "VitCKdbA7OL9"
      },
      "source": [
        "**Đọc Dữ Liệu Test**"
      ]
    },
    {
      "cell_type": "code",
      "metadata": {
        "id": "jxYtIRvd5Zx-"
      },
      "source": [
        "X_Test = []\n",
        "Y_Test = []\n",
        "with open('/content/data3.txt') as data3:\n",
        "    data3 = csv.reader(data3,delimiter=',')\n",
        "    for x in data3:\n",
        "        X_Test.append(int(x[0]))\n",
        "        Y_Test.append(float(x[1]))"
      ],
      "execution_count": null,
      "outputs": []
    },
    {
      "cell_type": "code",
      "metadata": {
        "id": "IPkdigZV4LgJ"
      },
      "source": [
        "X_Train = np.array(X_Train).reshape(-1,1)\n",
        "Y_Train = np.array(Y_Train)\n",
        "X_Test = np.array(X_Test).reshape(-1,1)\n",
        "Y_Test = np.array(Y_Test)"
      ],
      "execution_count": null,
      "outputs": []
    },
    {
      "cell_type": "markdown",
      "metadata": {
        "id": "nBceSYVU7RaH"
      },
      "source": [
        "**Fit Data, Train, Predict và Tính MSE**"
      ]
    },
    {
      "cell_type": "code",
      "metadata": {
        "colab": {
          "base_uri": "https://localhost:8080/"
        },
        "id": "gXj1gMDD5MMf",
        "outputId": "51d4d74b-4dde-4336-858d-195af2347a32"
      },
      "source": [
        "Linear = LinearRegression().fit(X_Train, Y_Train)\n",
        "Y_Pred = Linear.predict(X_Test)\n",
        "MSE = mean_squared_error(Y_Test,Y_Pred)\n",
        "print(MSE)"
      ],
      "execution_count": null,
      "outputs": [
        {
          "output_type": "stream",
          "text": [
            "0.020664949397549082\n"
          ],
          "name": "stdout"
        }
      ]
    }
  ]
}
